{
 "cells": [
  {
   "cell_type": "markdown",
   "id": "0210dbe0",
   "metadata": {},
   "source": [
    "<div style=\"padding:20px;color:white;margin:0;font-size:220%;text-align:left;display:fill;border-radius:5px;background-color:#3788D5;overflow:hidden;font-weight:500\">TransferMarkt: 2022-23 summer transfer window - Web Scraping</div>"
   ]
  },
  {
   "cell_type": "markdown",
   "id": "28d4d3a4",
   "metadata": {},
   "source": [
    "<img src=\"transfers_image.png\" style=\"width:480px;height:270;margin-left:0px\"/>"
   ]
  },
  {
   "cell_type": "markdown",
   "id": "81fab463",
   "metadata": {},
   "source": [
    "### What we’ll do?"
   ]
  },
  {
   "cell_type": "markdown",
   "id": "31e9ec5e",
   "metadata": {},
   "source": [
    "There have been more that 2000 transfers in the current summer transfer window, some clubs investing a lot of money to be at the top for the upcoming season. Let's collect this information, process and summarize.\n",
    "If we put everything on a list, this is what we’ve to do:\n",
    "- Create a script to get the latest transfer data\n",
    "- Create graphic representation through the scraped data"
   ]
  },
  {
   "cell_type": "markdown",
   "id": "24a2a02d",
   "metadata": {},
   "source": [
    "<div style=\"padding:15px;color:white;margin:0;font-size:200%;text-align:left;display:fill;border-radius:5px;background-color:#3788D5;overflow:hidden;font-weight:400\">Scraping the data</div>"
   ]
  },
  {
   "cell_type": "markdown",
   "id": "1a83b1fa",
   "metadata": {},
   "source": [
    "The first step is to get information about transfers, and for this we use [TransferMarkt.com](https://www.transfermarkt.com/transfers/saisontransfers/statistik/top/plus/1/galerie/0?saison_id=2022&transferfenster=alle&land_id=&ausrichtung=&spielerposition_id=&altersklasse=&leihe=&page=1)"
   ]
  },
  {
   "cell_type": "markdown",
   "id": "3bf0adb2",
   "metadata": {},
   "source": [
    "<img src=\"transfermarket_screen_table.png\" style=\"width:1023px;height:302;margin-left:0px\"/>"
   ]
  },
  {
   "cell_type": "markdown",
   "id": "e2e22e41",
   "metadata": {},
   "source": [
    "We want to write code that will help us get this data for each transfer:\n",
    "\n",
    "| Column | Description | \n",
    "| :- | :- | \n",
    "| **name** | player’s name | \n",
    "| **position** | player’s position | \n",
    "| **age** | player’s age | \n",
    "| **market_value** | player’s market value | \n",
    "| **country_from** | country that player was playing | \n",
    "| **league_from** | league that player was playing | \n",
    "| **club_from** | club that player was playing | \n",
    "| **country_to** | country player will play | \n",
    "| **league_to** | league player will play | \n",
    "| **club_to** | club player will play | \n",
    "| **fee** | how much club paid for player | \n",
    "| **loan** | is that transfer is loan | "
   ]
  },
  {
   "cell_type": "markdown",
   "id": "5c0250a5",
   "metadata": {},
   "source": [
    "All we need is to read the information from the table and save it in a csv file and for that we’ll use [Beautifulsoup](https://pypi.org/project/beautifulsoup4/), a library responsible for pulling data out of HTML and XML files, in our case HTML. With bs4 it’s possible to transform rows and columns of a table into a Python list of dictionaries."
   ]
  },
  {
   "cell_type": "markdown",
   "id": "50bc4e22",
   "metadata": {},
   "source": [
    "<img src=\"trasfermarket_screen_code.png\"/>"
   ]
  },
  {
   "cell_type": "markdown",
   "id": "ca2d878a",
   "metadata": {},
   "source": [
    "### Import libraries and modules"
   ]
  },
  {
   "cell_type": "code",
   "execution_count": 2,
   "id": "92541bbb",
   "metadata": {
    "scrolled": true
   },
   "outputs": [],
   "source": [
    "import requests # to make the request to the web address\n",
    "from bs4 import BeautifulSoup as bs # to pull data from HTML\n",
    "import csv # to put the data in the csv file\n",
    "import re # to handle regex\n",
    "import pandas as pd # to show result"
   ]
  },
  {
   "cell_type": "markdown",
   "id": "a127b93e",
   "metadata": {},
   "source": [
    "### Write some functions:\n",
    "1. that takes a string and removes some chars like double with spaces or escape sequences;\n",
    "2. process the currency;\n",
    "3. create a new column;\n",
    "4. responsible for accessing the pages, transforming the HTML into a soup object, looking for an element with the responsive-table class, and iterate all the even and odd classes to get the ‘tds’ or cell and then create a dictionary with the information we need, appending the var player to the players_list and finally return on;\n",
    "5. receives a list to save a csv output file."
   ]
  },
  {
   "cell_type": "code",
   "execution_count": 3,
   "id": "6a65652b",
   "metadata": {},
   "outputs": [],
   "source": [
    "'''\n",
    "1. format_text function that takes a string and removes some chars like double with spaces or escape sequences\n",
    "'''\n",
    "def format_text(text):\n",
    "    regex = re.compile(r'[\\n\\r\\t]')\n",
    "    text = regex.sub('', text)\n",
    "    return \" \".join(text.split())\n",
    "\n",
    "'''\n",
    "2. format_currency function process the currency\n",
    "'''\n",
    "def format_currency(value):\n",
    "    value = value.replace('€', '')\n",
    "    value = value.replace('-', '0')\n",
    "    value = value.replace('Loan fee:', '')\n",
    "    value = value.replace('-', '0')\n",
    "    value = value.replace('?', '0')\n",
    "    value = value.replace('loan transfer', '0')\n",
    "    value = value.replace('free transfer', '0')\n",
    "    \n",
    "    if value[-1] == 'm':\n",
    "        value = value.replace('m', '')\n",
    "        return float(value) \n",
    "\n",
    "    if value[-1] == '.':\n",
    "        value = value.replace('.', '')\n",
    "        if value[-2:] == 'Th':\n",
    "            value = value.replace('Th', '')\n",
    "            return float(value) / 1000\n",
    "    return value\n",
    "\n",
    "'''\n",
    "3. create a new column loan\n",
    "'''\n",
    "def loan_transform(value):\n",
    "    if bool(re.match('loan', value, re.I)):\n",
    "        bool_value = True\n",
    "        return bool_value\n",
    "    else:\n",
    "        bool_value = False\n",
    "        return bool_value\n",
    "\n",
    "'''\n",
    "4. get_data function responsible for accessing the pages, transforming the HTML into a soup object, looking for an element\n",
    "with the responsive-table class,  iterate all the even and odd classes to get the ‘tds’ or cell and then create\n",
    "a dictionary with the information we need, appending the var player to the players_list and finally return on\n",
    "''' \n",
    "def get_data(pages):\n",
    "    players_list = []\n",
    "    for page in range(1, pages+1):\n",
    "        headers = {\"User-Agent\":\"Mozilla/5.0 (Macintosh; Intel Mac OS X 10_15_4) AppleWebKit/537.36 (KHTML, like Gecko) Chrome/83.0.4103.97 Safari/537.36\"}\n",
    "        url = f'https://www.transfermarkt.com/transfers/saisontransfers/statistik/top/plus/1/galerie/0?saison_id=2022&transferfenster=sommertransfers&land_id=&ausrichtung=&spielerposition_id=&altersklasse=&leihe=&page={page}'\n",
    "        #print(url)\n",
    "\n",
    "        html = requests.get(url, headers=headers)\n",
    "        soup = bs(html.content)\n",
    "        soup = soup.select('.responsive-table > .grid-view > .items > tbody')[0]\n",
    "\n",
    "        try:\n",
    "            for cells in soup.find_all(True, {\"class\": re.compile(\"^(even|odd)$\")}):\n",
    "                fee = cells.find_all('td')[16].text\n",
    "                loan = cells.find_all('td')[16].text\n",
    "                position = cells.find_all('td')[4].text\n",
    "                age = cells.find_all('td')[5].text\n",
    "                market_value = cells.find_all('td')[6].text\n",
    "                try:\n",
    "                    country_from = cells.find_all('td')[11].img['title']\n",
    "                except:\n",
    "                    country_from = None\n",
    "                    pass\n",
    "                league_from = cells.find_all('td')[11].a.text if cells.find_all('td')[11].a != None else 'Without League'\n",
    "                club_from = cells.find_all('td')[9].img['alt']\n",
    "                country_to = cells.find_all('td')[15].img['alt']\n",
    "                league_to = cells.find_all('td')[15].a.text if cells.find_all('td')[15].a != None else 'Without League'\n",
    "                club_to = cells.find_all('td')[13].img['alt']\n",
    "\n",
    "                player = {\n",
    "                    'name': cells.find_all('td')[1].select('td > img')[0]['title'],\n",
    "                    'position': position,\n",
    "                    'age': age,\n",
    "                    'market_value': format_currency(market_value),\n",
    "                    'country_from': country_from,\n",
    "                    'league_from': format_text(league_from),\n",
    "                    'club_from': club_from,\n",
    "                    'country_to': country_to,\n",
    "                    'league_to': format_text(league_to),\n",
    "                    'club_to': club_to,\n",
    "                    'fee': format_currency(fee),\n",
    "                    'loan': loan_transform(loan),\n",
    "                }\n",
    "\n",
    "                players_list.append(player)\n",
    "        except IndexError:\n",
    "            pass\n",
    "\n",
    "    return players_list\n",
    "\n",
    "'''\n",
    "5. data_to_csv function which receives a list to save a csv output file\n",
    "'''\n",
    "def data_to_csv(data):\n",
    "    keys = data[0].keys()\n",
    "    with open('data.csv', 'w', newline='')  as output_file:\n",
    "        dict_writer = csv.DictWriter(output_file, keys)\n",
    "        dict_writer.writeheader()\n",
    "        dict_writer.writerows(data)"
   ]
  },
  {
   "cell_type": "markdown",
   "id": "f51bf6d3",
   "metadata": {},
   "source": [
    "### Run the script saying that we want data from all pages"
   ]
  },
  {
   "cell_type": "code",
   "execution_count": 4,
   "id": "5eb46eb0",
   "metadata": {
    "scrolled": true
   },
   "outputs": [
    {
     "name": "stdout",
     "output_type": "stream",
     "text": [
      "CPU times: user 9.05 s, sys: 187 ms, total: 9.24 s\n",
      "Wall time: 3min 56s\n"
     ]
    }
   ],
   "source": [
    "%%time\n",
    "data = get_data(80)"
   ]
  },
  {
   "cell_type": "markdown",
   "id": "1dcd7171",
   "metadata": {},
   "source": [
    "### Look at the result"
   ]
  },
  {
   "cell_type": "code",
   "execution_count": 5,
   "id": "ef370e83",
   "metadata": {},
   "outputs": [
    {
     "data": {
      "text/html": [
       "<div>\n",
       "<style scoped>\n",
       "    .dataframe tbody tr th:only-of-type {\n",
       "        vertical-align: middle;\n",
       "    }\n",
       "\n",
       "    .dataframe tbody tr th {\n",
       "        vertical-align: top;\n",
       "    }\n",
       "\n",
       "    .dataframe thead th {\n",
       "        text-align: right;\n",
       "    }\n",
       "</style>\n",
       "<table border=\"1\" class=\"dataframe\">\n",
       "  <thead>\n",
       "    <tr style=\"text-align: right;\">\n",
       "      <th></th>\n",
       "      <th>name</th>\n",
       "      <th>position</th>\n",
       "      <th>age</th>\n",
       "      <th>market_value</th>\n",
       "      <th>country_from</th>\n",
       "      <th>league_from</th>\n",
       "      <th>club_from</th>\n",
       "      <th>country_to</th>\n",
       "      <th>league_to</th>\n",
       "      <th>club_to</th>\n",
       "      <th>fee</th>\n",
       "      <th>loan</th>\n",
       "    </tr>\n",
       "  </thead>\n",
       "  <tbody>\n",
       "    <tr>\n",
       "      <th>0</th>\n",
       "      <td>Erling Haaland</td>\n",
       "      <td>Centre-Forward</td>\n",
       "      <td>21</td>\n",
       "      <td>150.0</td>\n",
       "      <td>Germany</td>\n",
       "      <td>Bundesliga</td>\n",
       "      <td>Borussia Dortmund</td>\n",
       "      <td>England</td>\n",
       "      <td>Premier League</td>\n",
       "      <td>Manchester City</td>\n",
       "      <td>60.0</td>\n",
       "      <td>False</td>\n",
       "    </tr>\n",
       "  </tbody>\n",
       "</table>\n",
       "</div>"
      ],
      "text/plain": [
       "             name        position age market_value country_from league_from  \\\n",
       "0  Erling Haaland  Centre-Forward  21        150.0      Germany  Bundesliga   \n",
       "\n",
       "           club_from country_to       league_to          club_to   fee   loan  \n",
       "0  Borussia Dortmund    England  Premier League  Manchester City  60.0  False  "
      ]
     },
     "execution_count": 5,
     "metadata": {},
     "output_type": "execute_result"
    }
   ],
   "source": [
    "df = pd.DataFrame(data=data)\n",
    "df.head(1)"
   ]
  },
  {
   "cell_type": "code",
   "execution_count": 6,
   "id": "685ef1ff",
   "metadata": {},
   "outputs": [
    {
     "name": "stdout",
     "output_type": "stream",
     "text": [
      "Number of rows is 2000\n",
      "Number of Nones is 1 in a column country_from\n"
     ]
    }
   ],
   "source": [
    "print(f'Number of rows is {df.shape[0]}')\n",
    "print(f'Number of Nones is {df.isna().sum().sum()} in a column {df.columns[df.isna().any()].tolist()[0]}')"
   ]
  },
  {
   "cell_type": "markdown",
   "id": "c4d53ac3",
   "metadata": {},
   "source": [
    "### Great, we have all 2000 transfers in our dataframe 🥳"
   ]
  },
  {
   "cell_type": "markdown",
   "id": "72c4c1d3",
   "metadata": {},
   "source": [
    "### Save data in a csv file"
   ]
  },
  {
   "cell_type": "code",
   "execution_count": 7,
   "id": "b92d5269",
   "metadata": {
    "scrolled": true
   },
   "outputs": [],
   "source": [
    "data_to_csv(data)"
   ]
  }
 ],
 "metadata": {
  "celltoolbar": "Необработанный формат ячейки",
  "kernelspec": {
   "display_name": "Python 3 (ipykernel)",
   "language": "python",
   "name": "python3"
  },
  "language_info": {
   "codemirror_mode": {
    "name": "ipython",
    "version": 3
   },
   "file_extension": ".py",
   "mimetype": "text/x-python",
   "name": "python",
   "nbconvert_exporter": "python",
   "pygments_lexer": "ipython3",
   "version": "3.9.7"
  }
 },
 "nbformat": 4,
 "nbformat_minor": 5
}
