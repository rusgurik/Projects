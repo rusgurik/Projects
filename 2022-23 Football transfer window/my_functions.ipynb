{
 "cells": [
  {
   "cell_type": "code",
   "execution_count": 12,
   "id": "520f7ee8",
   "metadata": {},
   "outputs": [],
   "source": [
    "# %run my_functions.ipynb\n",
    "# from ipynb.fs.full.my_functions import hide_all_code"
   ]
  },
  {
   "cell_type": "code",
   "execution_count": 4,
   "id": "937fcc60",
   "metadata": {},
   "outputs": [
    {
     "data": {
      "text/html": [
       "<style>\n",
       "table {float:left}\n",
       "</style>\n"
      ],
      "text/plain": [
       "<IPython.core.display.HTML object>"
      ]
     },
     "metadata": {},
     "output_type": "display_data"
    }
   ],
   "source": [
    "%%html\n",
    "<style>\n",
    "table {float:left}\n",
    "</style>"
   ]
  },
  {
   "cell_type": "code",
   "execution_count": 4,
   "id": "5314172c",
   "metadata": {},
   "outputs": [],
   "source": [
    "def hide_toggle(for_next=False):\n",
    "    from IPython.display import HTML\n",
    "    import random \n",
    "    this_cell = \"\"\"$('div.cell.code_cell.rendered.selected')\"\"\"\n",
    "    next_cell = this_cell + '.next()'\n",
    "\n",
    "    toggle_text = 'Toggle show/hide'  # text shown on toggle link\n",
    "    target_cell = this_cell  # target cell to control with toggle\n",
    "    js_hide_current = ''  # bit of JS to permanently hide code in current cell (only when toggling next cell)\n",
    "\n",
    "    if for_next:\n",
    "        target_cell = next_cell\n",
    "        toggle_text += ' next cell'\n",
    "        js_hide_current = this_cell + '.find(\"div.input\").hide();'\n",
    "\n",
    "    js_f_name = 'code_toggle_{}'.format(str(random.randint(1,2**64)))\n",
    "\n",
    "    html = \"\"\"\n",
    "        <script>\n",
    "            function {f_name}() {{\n",
    "                {cell_selector}.find('div.input').toggle();\n",
    "            }}\n",
    "\n",
    "            {js_hide_current}\n",
    "        </script>\n",
    "\n",
    "        <a href=\"javascript:{f_name}()\">{toggle_text}</a>\n",
    "    \"\"\".format(\n",
    "        f_name=js_f_name,\n",
    "        cell_selector=target_cell,\n",
    "        js_hide_current=js_hide_current, \n",
    "        toggle_text=toggle_text\n",
    "    )\n",
    "\n",
    "    return HTML(html)"
   ]
  },
  {
   "cell_type": "code",
   "execution_count": 8,
   "id": "8ec4f61f",
   "metadata": {},
   "outputs": [],
   "source": [
    "def hide_all_code():\n",
    "    from IPython.display import HTML\n",
    "    html = '''<script>\n",
    "            code_show=true; \n",
    "            function code_toggle() {\n",
    "             if (code_show){\n",
    "             $('div.input').hide();\n",
    "             } else {\n",
    "             $('div.input').show();\n",
    "             }\n",
    "             code_show = !code_show\n",
    "            } \n",
    "            $( document ).ready(code_toggle);\n",
    "            </script>\n",
    "            The raw code for this IPython notebook is by default hidden for easier reading.\n",
    "            To toggle on/off the raw code, click <a href=\"javascript:code_toggle()\">here</a>.'''\n",
    "\n",
    "    return HTML(html)"
   ]
  }
 ],
 "metadata": {
  "kernelspec": {
   "display_name": "Python 3 (ipykernel)",
   "language": "python",
   "name": "python3"
  },
  "language_info": {
   "codemirror_mode": {
    "name": "ipython",
    "version": 3
   },
   "file_extension": ".py",
   "mimetype": "text/x-python",
   "name": "python",
   "nbconvert_exporter": "python",
   "pygments_lexer": "ipython3",
   "version": "3.9.7"
  }
 },
 "nbformat": 4,
 "nbformat_minor": 5
}
